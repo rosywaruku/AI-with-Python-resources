{
  "metadata": {
    "kernelspec": {
      "language": "python",
      "display_name": "Python 3",
      "name": "python3"
    },
    "language_info": {
      "name": "python",
      "version": "3.6.6",
      "mimetype": "text/x-python",
      "codemirror_mode": {
        "name": "ipython",
        "version": 3
      },
      "pygments_lexer": "ipython3",
      "nbconvert_exporter": "python",
      "file_extension": ".py"
    },
    "colab": {
      "provenance": []
    }
  },
  "nbformat_minor": 0,
  "nbformat": 4,
  "cells": [
    {
      "cell_type": "markdown",
      "source": [
        "#  INTRODUCTION"
      ],
      "metadata": {
        "_uuid": "e8d3350d8d257a02d795d71d5ae36941578c4c1a",
        "id": "7gzzwl9gAvBn"
      }
    },
    {
      "cell_type": "code",
      "source": [
        "import numpy as np # linear algebra\n",
        "import pandas as pd # data processing\n",
        "import matplotlib.pyplot as plt\n",
        "import seaborn as sns\n",
        "from sklearn.model_selection import train_test_split\n",
        "from sklearn.tree import DecisionTreeClassifier\n",
        "from sklearn import tree\n",
        "from sklearn.metrics import accuracy_score, f1_score"
      ],
      "metadata": {
        "_uuid": "8f2839f25d086af736a60e9eeb907d3b93b6e0e5",
        "_cell_guid": "b1076dfc-b9ad-4769-8c92-a6c4dae69d19",
        "execution": {
          "iopub.status.busy": "2022-12-18T20:42:18.222903Z",
          "iopub.execute_input": "2022-12-18T20:42:18.223351Z",
          "iopub.status.idle": "2022-12-18T20:42:18.229910Z",
          "shell.execute_reply.started": "2022-12-18T20:42:18.223279Z",
          "shell.execute_reply": "2022-12-18T20:42:18.228883Z"
        },
        "trusted": true,
        "id": "hLQFjvl5AvBx"
      },
      "execution_count": 67,
      "outputs": []
    },
    {
      "cell_type": "markdown",
      "source": [
        "# Loading the data"
      ],
      "metadata": {
        "id": "DiEE64oqAvBy"
      }
    },
    {
      "cell_type": "code",
      "source": [
        "from google.colab import drive\n",
        "drive.mount('/content/drive')"
      ],
      "metadata": {
        "colab": {
          "base_uri": "https://localhost:8080/"
        },
        "id": "bw5vz4epQboq",
        "outputId": "d5dccfc2-711c-4c96-dd63-564e890f2fd7"
      },
      "execution_count": 24,
      "outputs": [
        {
          "output_type": "stream",
          "name": "stdout",
          "text": [
            "Drive already mounted at /content/drive; to attempt to forcibly remount, call drive.mount(\"/content/drive\", force_remount=True).\n"
          ]
        }
      ]
    },
    {
      "cell_type": "code",
      "source": [
        "%cd /content/drive/MyDrive/Music_Genre"
      ],
      "metadata": {
        "id": "q_PTjPVbBHE-",
        "colab": {
          "base_uri": "https://localhost:8080/"
        },
        "outputId": "48b2ee26-d271-4709-eda9-f8d99b9c6f3a"
      },
      "execution_count": 25,
      "outputs": [
        {
          "output_type": "stream",
          "name": "stdout",
          "text": [
            "/content/drive/MyDrive/Music_Genre\n"
          ]
        }
      ]
    },
    {
      "cell_type": "code",
      "source": [
        "df = pd.read_csv(\"user - preference.csv\")\n",
        "df.head()"
      ],
      "metadata": {
        "_cell_guid": "79c7e3d0-c299-4dcb-8224-4455121ee9b0",
        "_uuid": "d629ff2d2480ee46fbb7e2d37f6b5fab8052498a",
        "scrolled": true,
        "execution": {
          "iopub.status.busy": "2022-12-18T20:42:18.617919Z",
          "iopub.execute_input": "2022-12-18T20:42:18.618529Z",
          "iopub.status.idle": "2022-12-18T20:42:18.817854Z",
          "shell.execute_reply.started": "2022-12-18T20:42:18.618451Z",
          "shell.execute_reply": "2022-12-18T20:42:18.816785Z"
        },
        "trusted": true,
        "id": "OWXpgbmjAvBz",
        "outputId": "091ecd95-7118-4e7a-c25c-91f6d81fa18b",
        "colab": {
          "base_uri": "https://localhost:8080/",
          "height": 206
        }
      },
      "execution_count": 26,
      "outputs": [
        {
          "output_type": "execute_result",
          "data": {
            "text/plain": [
              "    Age  Gender   Preference\n",
              "0  20.0  female         Rock\n",
              "1  19.0  female         Rock\n",
              "2  20.0  female       Latino\n",
              "3  22.0  female  Alternative\n",
              "4  20.0  female  Hiphop, Rap"
            ],
            "text/html": [
              "\n",
              "  <div id=\"df-91958a89-bb3f-4ff3-a1cd-3a3224dee88e\">\n",
              "    <div class=\"colab-df-container\">\n",
              "      <div>\n",
              "<style scoped>\n",
              "    .dataframe tbody tr th:only-of-type {\n",
              "        vertical-align: middle;\n",
              "    }\n",
              "\n",
              "    .dataframe tbody tr th {\n",
              "        vertical-align: top;\n",
              "    }\n",
              "\n",
              "    .dataframe thead th {\n",
              "        text-align: right;\n",
              "    }\n",
              "</style>\n",
              "<table border=\"1\" class=\"dataframe\">\n",
              "  <thead>\n",
              "    <tr style=\"text-align: right;\">\n",
              "      <th></th>\n",
              "      <th>Age</th>\n",
              "      <th>Gender</th>\n",
              "      <th>Preference</th>\n",
              "    </tr>\n",
              "  </thead>\n",
              "  <tbody>\n",
              "    <tr>\n",
              "      <th>0</th>\n",
              "      <td>20.0</td>\n",
              "      <td>female</td>\n",
              "      <td>Rock</td>\n",
              "    </tr>\n",
              "    <tr>\n",
              "      <th>1</th>\n",
              "      <td>19.0</td>\n",
              "      <td>female</td>\n",
              "      <td>Rock</td>\n",
              "    </tr>\n",
              "    <tr>\n",
              "      <th>2</th>\n",
              "      <td>20.0</td>\n",
              "      <td>female</td>\n",
              "      <td>Latino</td>\n",
              "    </tr>\n",
              "    <tr>\n",
              "      <th>3</th>\n",
              "      <td>22.0</td>\n",
              "      <td>female</td>\n",
              "      <td>Alternative</td>\n",
              "    </tr>\n",
              "    <tr>\n",
              "      <th>4</th>\n",
              "      <td>20.0</td>\n",
              "      <td>female</td>\n",
              "      <td>Hiphop, Rap</td>\n",
              "    </tr>\n",
              "  </tbody>\n",
              "</table>\n",
              "</div>\n",
              "      <button class=\"colab-df-convert\" onclick=\"convertToInteractive('df-91958a89-bb3f-4ff3-a1cd-3a3224dee88e')\"\n",
              "              title=\"Convert this dataframe to an interactive table.\"\n",
              "              style=\"display:none;\">\n",
              "        \n",
              "  <svg xmlns=\"http://www.w3.org/2000/svg\" height=\"24px\"viewBox=\"0 0 24 24\"\n",
              "       width=\"24px\">\n",
              "    <path d=\"M0 0h24v24H0V0z\" fill=\"none\"/>\n",
              "    <path d=\"M18.56 5.44l.94 2.06.94-2.06 2.06-.94-2.06-.94-.94-2.06-.94 2.06-2.06.94zm-11 1L8.5 8.5l.94-2.06 2.06-.94-2.06-.94L8.5 2.5l-.94 2.06-2.06.94zm10 10l.94 2.06.94-2.06 2.06-.94-2.06-.94-.94-2.06-.94 2.06-2.06.94z\"/><path d=\"M17.41 7.96l-1.37-1.37c-.4-.4-.92-.59-1.43-.59-.52 0-1.04.2-1.43.59L10.3 9.45l-7.72 7.72c-.78.78-.78 2.05 0 2.83L4 21.41c.39.39.9.59 1.41.59.51 0 1.02-.2 1.41-.59l7.78-7.78 2.81-2.81c.8-.78.8-2.07 0-2.86zM5.41 20L4 18.59l7.72-7.72 1.47 1.35L5.41 20z\"/>\n",
              "  </svg>\n",
              "      </button>\n",
              "      \n",
              "  <style>\n",
              "    .colab-df-container {\n",
              "      display:flex;\n",
              "      flex-wrap:wrap;\n",
              "      gap: 12px;\n",
              "    }\n",
              "\n",
              "    .colab-df-convert {\n",
              "      background-color: #E8F0FE;\n",
              "      border: none;\n",
              "      border-radius: 50%;\n",
              "      cursor: pointer;\n",
              "      display: none;\n",
              "      fill: #1967D2;\n",
              "      height: 32px;\n",
              "      padding: 0 0 0 0;\n",
              "      width: 32px;\n",
              "    }\n",
              "\n",
              "    .colab-df-convert:hover {\n",
              "      background-color: #E2EBFA;\n",
              "      box-shadow: 0px 1px 2px rgba(60, 64, 67, 0.3), 0px 1px 3px 1px rgba(60, 64, 67, 0.15);\n",
              "      fill: #174EA6;\n",
              "    }\n",
              "\n",
              "    [theme=dark] .colab-df-convert {\n",
              "      background-color: #3B4455;\n",
              "      fill: #D2E3FC;\n",
              "    }\n",
              "\n",
              "    [theme=dark] .colab-df-convert:hover {\n",
              "      background-color: #434B5C;\n",
              "      box-shadow: 0px 1px 3px 1px rgba(0, 0, 0, 0.15);\n",
              "      filter: drop-shadow(0px 1px 2px rgba(0, 0, 0, 0.3));\n",
              "      fill: #FFFFFF;\n",
              "    }\n",
              "  </style>\n",
              "\n",
              "      <script>\n",
              "        const buttonEl =\n",
              "          document.querySelector('#df-91958a89-bb3f-4ff3-a1cd-3a3224dee88e button.colab-df-convert');\n",
              "        buttonEl.style.display =\n",
              "          google.colab.kernel.accessAllowed ? 'block' : 'none';\n",
              "\n",
              "        async function convertToInteractive(key) {\n",
              "          const element = document.querySelector('#df-91958a89-bb3f-4ff3-a1cd-3a3224dee88e');\n",
              "          const dataTable =\n",
              "            await google.colab.kernel.invokeFunction('convertToInteractive',\n",
              "                                                     [key], {});\n",
              "          if (!dataTable) return;\n",
              "\n",
              "          const docLinkHtml = 'Like what you see? Visit the ' +\n",
              "            '<a target=\"_blank\" href=https://colab.research.google.com/notebooks/data_table.ipynb>data table notebook</a>'\n",
              "            + ' to learn more about interactive tables.';\n",
              "          element.innerHTML = '';\n",
              "          dataTable['output_type'] = 'display_data';\n",
              "          await google.colab.output.renderOutput(dataTable, element);\n",
              "          const docLink = document.createElement('div');\n",
              "          docLink.innerHTML = docLinkHtml;\n",
              "          element.appendChild(docLink);\n",
              "        }\n",
              "      </script>\n",
              "    </div>\n",
              "  </div>\n",
              "  "
            ]
          },
          "metadata": {},
          "execution_count": 26
        }
      ]
    },
    {
      "cell_type": "code",
      "source": [
        "df.shape"
      ],
      "metadata": {
        "execution": {
          "iopub.status.busy": "2022-12-18T20:42:19.268482Z",
          "iopub.execute_input": "2022-12-18T20:42:19.268842Z",
          "iopub.status.idle": "2022-12-18T20:42:19.274901Z",
          "shell.execute_reply.started": "2022-12-18T20:42:19.268781Z",
          "shell.execute_reply": "2022-12-18T20:42:19.273953Z"
        },
        "trusted": true,
        "id": "qDkLTY6yAvB1",
        "outputId": "fcb04d1c-9dfa-40f0-81e0-55362aeaaef2",
        "colab": {
          "base_uri": "https://localhost:8080/"
        }
      },
      "execution_count": 27,
      "outputs": [
        {
          "output_type": "execute_result",
          "data": {
            "text/plain": [
              "(1010, 3)"
            ]
          },
          "metadata": {},
          "execution_count": 27
        }
      ]
    },
    {
      "cell_type": "markdown",
      "source": [
        "# Cleaning the Data"
      ],
      "metadata": {
        "id": "kDNm2AX_AvB2"
      }
    },
    {
      "cell_type": "markdown",
      "source": [
        "Look into the data to find missing values"
      ],
      "metadata": {
        "_uuid": "7a90cd436c36dac364ad9b2627f9152fe88e653e",
        "id": "3imleYfrAvB2"
      }
    },
    {
      "cell_type": "code",
      "source": [
        "df.isnull().sum()"
      ],
      "metadata": {
        "execution": {
          "iopub.status.busy": "2022-12-18T20:42:19.422931Z",
          "iopub.execute_input": "2022-12-18T20:42:19.423364Z",
          "iopub.status.idle": "2022-12-18T20:42:19.436428Z",
          "shell.execute_reply.started": "2022-12-18T20:42:19.423297Z",
          "shell.execute_reply": "2022-12-18T20:42:19.433249Z"
        },
        "trusted": true,
        "id": "HDwGEccsAvB2",
        "outputId": "ee728b89-fc3d-4297-d178-c4168623bacc",
        "colab": {
          "base_uri": "https://localhost:8080/"
        }
      },
      "execution_count": 28,
      "outputs": [
        {
          "output_type": "execute_result",
          "data": {
            "text/plain": [
              "Age            7\n",
              "Gender         6\n",
              "Preference    74\n",
              "dtype: int64"
            ]
          },
          "metadata": {},
          "execution_count": 28
        }
      ]
    },
    {
      "cell_type": "markdown",
      "source": [
        "Firstly, we drop the missing data from dataframe and reset our index"
      ],
      "metadata": {
        "_uuid": "741ec3d1655db0234b3067c08e6eb9ff1d273778",
        "id": "eYIePN1hAvB3"
      }
    },
    {
      "cell_type": "code",
      "source": [
        "df.dropna(inplace = True)\n",
        "df.reset_index(drop=True,inplace=True)\n",
        "row = len(df.index)"
      ],
      "metadata": {
        "_uuid": "9c615017cf146ac85a7c3454d003d12433846034",
        "execution": {
          "iopub.status.busy": "2022-12-18T20:42:19.600933Z",
          "iopub.execute_input": "2022-12-18T20:42:19.601310Z",
          "iopub.status.idle": "2022-12-18T20:42:19.609627Z",
          "shell.execute_reply.started": "2022-12-18T20:42:19.601247Z",
          "shell.execute_reply": "2022-12-18T20:42:19.608660Z"
        },
        "trusted": true,
        "id": "hlhx2xDAAvB3"
      },
      "execution_count": 29,
      "outputs": []
    },
    {
      "cell_type": "code",
      "source": [
        "df.shape"
      ],
      "metadata": {
        "execution": {
          "iopub.status.busy": "2022-12-18T20:42:19.890589Z",
          "iopub.execute_input": "2022-12-18T20:42:19.891173Z",
          "iopub.status.idle": "2022-12-18T20:42:19.898177Z",
          "shell.execute_reply.started": "2022-12-18T20:42:19.891119Z",
          "shell.execute_reply": "2022-12-18T20:42:19.896753Z"
        },
        "trusted": true,
        "id": "kV1uEi_xAvB3",
        "outputId": "d96c691a-fc60-497f-e7e0-38fa9efbc03e",
        "colab": {
          "base_uri": "https://localhost:8080/"
        }
      },
      "execution_count": 30,
      "outputs": [
        {
          "output_type": "execute_result",
          "data": {
            "text/plain": [
              "(925, 3)"
            ]
          },
          "metadata": {},
          "execution_count": 30
        }
      ]
    },
    {
      "cell_type": "code",
      "source": [
        "df.info()"
      ],
      "metadata": {
        "execution": {
          "iopub.status.busy": "2022-12-18T20:42:20.933433Z",
          "iopub.execute_input": "2022-12-18T20:42:20.934111Z",
          "iopub.status.idle": "2022-12-18T20:42:20.947224Z",
          "shell.execute_reply.started": "2022-12-18T20:42:20.934049Z",
          "shell.execute_reply": "2022-12-18T20:42:20.946421Z"
        },
        "trusted": true,
        "id": "_EEA71lYAvB4",
        "outputId": "3d50b34d-66c6-4875-c22a-3cadafdd542a",
        "colab": {
          "base_uri": "https://localhost:8080/"
        }
      },
      "execution_count": 31,
      "outputs": [
        {
          "output_type": "stream",
          "name": "stdout",
          "text": [
            "<class 'pandas.core.frame.DataFrame'>\n",
            "RangeIndex: 925 entries, 0 to 924\n",
            "Data columns (total 3 columns):\n",
            " #   Column      Non-Null Count  Dtype  \n",
            "---  ------      --------------  -----  \n",
            " 0   Age         925 non-null    float64\n",
            " 1   Gender      925 non-null    object \n",
            " 2   Preference  925 non-null    object \n",
            "dtypes: float64(1), object(2)\n",
            "memory usage: 21.8+ KB\n"
          ]
        }
      ]
    },
    {
      "cell_type": "markdown",
      "source": [
        "All of numerical data has entered as float64 format and none of them has decimal part, thus we convert these data from float to integer format."
      ],
      "metadata": {
        "_uuid": "64c02c8a0692114bc78d03b9f8e50e8bb5a732b9",
        "id": "aMVKV2F9AvB4"
      }
    },
    {
      "cell_type": "code",
      "source": [
        "for each in range(0,2) :\n",
        "    if type(df.iloc[1,each]) == np.float64 :\n",
        "        df[df.columns[each]] = df[df.columns[each]].astype(int)\n",
        "    else :\n",
        "        df[df.columns[each]] = df[df.columns[each]]"
      ],
      "metadata": {
        "_uuid": "619f71607a3fe1ec6b6fa8fcc3ce92cf10625bf5",
        "execution": {
          "iopub.status.busy": "2022-12-18T20:42:21.037935Z",
          "iopub.execute_input": "2022-12-18T20:42:21.038475Z",
          "iopub.status.idle": "2022-12-18T20:42:21.054881Z",
          "shell.execute_reply.started": "2022-12-18T20:42:21.038403Z",
          "shell.execute_reply": "2022-12-18T20:42:21.053638Z"
        },
        "trusted": true,
        "id": "7NQLwe8kAvB4"
      },
      "execution_count": 33,
      "outputs": []
    },
    {
      "cell_type": "markdown",
      "source": [
        "Sorting categorical values :\n",
        "Gender\n",
        "Alcohol\n",
        "Education"
      ],
      "metadata": {
        "id": "GU-O23zxAvB4"
      }
    },
    {
      "cell_type": "code",
      "source": [
        "df.Gender.unique()"
      ],
      "metadata": {
        "execution": {
          "iopub.status.busy": "2022-12-18T20:42:21.156508Z",
          "iopub.execute_input": "2022-12-18T20:42:21.157033Z",
          "iopub.status.idle": "2022-12-18T20:42:21.164762Z",
          "shell.execute_reply.started": "2022-12-18T20:42:21.156932Z",
          "shell.execute_reply": "2022-12-18T20:42:21.163565Z"
        },
        "trusted": true,
        "id": "DxcfV_1YAvB4",
        "outputId": "2a4063b3-1649-443f-ca79-f1b618b3fafa",
        "colab": {
          "base_uri": "https://localhost:8080/"
        }
      },
      "execution_count": 34,
      "outputs": [
        {
          "output_type": "execute_result",
          "data": {
            "text/plain": [
              "array(['female', 'male'], dtype=object)"
            ]
          },
          "metadata": {},
          "execution_count": 34
        }
      ]
    },
    {
      "cell_type": "markdown",
      "source": [
        "In \"Gender\" column, there are \"female\" and \"male\" values, they convert as \"female\"= 0 , \"male = 1\""
      ],
      "metadata": {
        "id": "SuFhVin_AvB5"
      }
    },
    {
      "cell_type": "code",
      "source": [
        "for sex in range(0,row) :\n",
        "    if df.loc[sex,'Gender'] == 'female' :\n",
        "        df.loc[sex,'Gender'] = 0\n",
        "    else :\n",
        "        df.loc[sex,'Gender'] = 1"
      ],
      "metadata": {
        "execution": {
          "iopub.status.busy": "2022-12-18T20:42:21.242092Z",
          "iopub.execute_input": "2022-12-18T20:42:21.242626Z",
          "iopub.status.idle": "2022-12-18T20:42:21.749446Z",
          "shell.execute_reply.started": "2022-12-18T20:42:21.242405Z",
          "shell.execute_reply": "2022-12-18T20:42:21.748354Z"
        },
        "trusted": true,
        "id": "OWclUPMtAvB5"
      },
      "execution_count": 35,
      "outputs": []
    },
    {
      "cell_type": "code",
      "source": [
        "df['Gender'].tail()"
      ],
      "metadata": {
        "execution": {
          "iopub.status.busy": "2022-12-18T20:42:21.752346Z",
          "iopub.execute_input": "2022-12-18T20:42:21.752826Z",
          "iopub.status.idle": "2022-12-18T20:42:21.761768Z",
          "shell.execute_reply.started": "2022-12-18T20:42:21.752737Z",
          "shell.execute_reply": "2022-12-18T20:42:21.760480Z"
        },
        "trusted": true,
        "id": "9NcmNu2LAvB5",
        "outputId": "96681a4c-8691-4c47-91de-58c3aef43a39",
        "colab": {
          "base_uri": "https://localhost:8080/"
        }
      },
      "execution_count": 46,
      "outputs": [
        {
          "output_type": "execute_result",
          "data": {
            "text/plain": [
              "920    0\n",
              "921    1\n",
              "922    0\n",
              "923    0\n",
              "924    0\n",
              "Name: Gender, dtype: object"
            ]
          },
          "metadata": {},
          "execution_count": 46
        }
      ]
    },
    {
      "cell_type": "code",
      "source": [
        "df['Gender'] = df['Gender'].astype(int)"
      ],
      "metadata": {
        "id": "BTVp2M7en94A"
      },
      "execution_count": 49,
      "outputs": []
    },
    {
      "cell_type": "code",
      "source": [
        "df.info()"
      ],
      "metadata": {
        "colab": {
          "base_uri": "https://localhost:8080/"
        },
        "id": "YLPhd-3KoF-n",
        "outputId": "04a65d5c-a2ab-4528-d321-4426c6cbbe85"
      },
      "execution_count": 50,
      "outputs": [
        {
          "output_type": "stream",
          "name": "stdout",
          "text": [
            "<class 'pandas.core.frame.DataFrame'>\n",
            "RangeIndex: 925 entries, 0 to 924\n",
            "Data columns (total 3 columns):\n",
            " #   Column      Non-Null Count  Dtype \n",
            "---  ------      --------------  ----- \n",
            " 0   Age         925 non-null    int64 \n",
            " 1   Gender      925 non-null    int64 \n",
            " 2   Preference  925 non-null    object\n",
            "dtypes: int64(2), object(1)\n",
            "memory usage: 21.8+ KB\n"
          ]
        }
      ]
    },
    {
      "cell_type": "markdown",
      "source": [
        "# Exploring Data"
      ],
      "metadata": {
        "_uuid": "3faffc6d1b0e2f278f9ca1783911a986e912514d",
        "id": "S5KmIBB1AvB8"
      }
    },
    {
      "cell_type": "code",
      "source": [
        "df.corr()"
      ],
      "metadata": {
        "colab": {
          "base_uri": "https://localhost:8080/",
          "height": 112
        },
        "id": "U31UBvnOoJVG",
        "outputId": "96421fdd-96c6-4b7d-a59d-f1177df20494"
      },
      "execution_count": 52,
      "outputs": [
        {
          "output_type": "execute_result",
          "data": {
            "text/plain": [
              "             Age    Gender\n",
              "Age     1.000000  0.126457\n",
              "Gender  0.126457  1.000000"
            ],
            "text/html": [
              "\n",
              "  <div id=\"df-fac3c798-59d1-4dfd-8ddb-88c033f90f96\">\n",
              "    <div class=\"colab-df-container\">\n",
              "      <div>\n",
              "<style scoped>\n",
              "    .dataframe tbody tr th:only-of-type {\n",
              "        vertical-align: middle;\n",
              "    }\n",
              "\n",
              "    .dataframe tbody tr th {\n",
              "        vertical-align: top;\n",
              "    }\n",
              "\n",
              "    .dataframe thead th {\n",
              "        text-align: right;\n",
              "    }\n",
              "</style>\n",
              "<table border=\"1\" class=\"dataframe\">\n",
              "  <thead>\n",
              "    <tr style=\"text-align: right;\">\n",
              "      <th></th>\n",
              "      <th>Age</th>\n",
              "      <th>Gender</th>\n",
              "    </tr>\n",
              "  </thead>\n",
              "  <tbody>\n",
              "    <tr>\n",
              "      <th>Age</th>\n",
              "      <td>1.000000</td>\n",
              "      <td>0.126457</td>\n",
              "    </tr>\n",
              "    <tr>\n",
              "      <th>Gender</th>\n",
              "      <td>0.126457</td>\n",
              "      <td>1.000000</td>\n",
              "    </tr>\n",
              "  </tbody>\n",
              "</table>\n",
              "</div>\n",
              "      <button class=\"colab-df-convert\" onclick=\"convertToInteractive('df-fac3c798-59d1-4dfd-8ddb-88c033f90f96')\"\n",
              "              title=\"Convert this dataframe to an interactive table.\"\n",
              "              style=\"display:none;\">\n",
              "        \n",
              "  <svg xmlns=\"http://www.w3.org/2000/svg\" height=\"24px\"viewBox=\"0 0 24 24\"\n",
              "       width=\"24px\">\n",
              "    <path d=\"M0 0h24v24H0V0z\" fill=\"none\"/>\n",
              "    <path d=\"M18.56 5.44l.94 2.06.94-2.06 2.06-.94-2.06-.94-.94-2.06-.94 2.06-2.06.94zm-11 1L8.5 8.5l.94-2.06 2.06-.94-2.06-.94L8.5 2.5l-.94 2.06-2.06.94zm10 10l.94 2.06.94-2.06 2.06-.94-2.06-.94-.94-2.06-.94 2.06-2.06.94z\"/><path d=\"M17.41 7.96l-1.37-1.37c-.4-.4-.92-.59-1.43-.59-.52 0-1.04.2-1.43.59L10.3 9.45l-7.72 7.72c-.78.78-.78 2.05 0 2.83L4 21.41c.39.39.9.59 1.41.59.51 0 1.02-.2 1.41-.59l7.78-7.78 2.81-2.81c.8-.78.8-2.07 0-2.86zM5.41 20L4 18.59l7.72-7.72 1.47 1.35L5.41 20z\"/>\n",
              "  </svg>\n",
              "      </button>\n",
              "      \n",
              "  <style>\n",
              "    .colab-df-container {\n",
              "      display:flex;\n",
              "      flex-wrap:wrap;\n",
              "      gap: 12px;\n",
              "    }\n",
              "\n",
              "    .colab-df-convert {\n",
              "      background-color: #E8F0FE;\n",
              "      border: none;\n",
              "      border-radius: 50%;\n",
              "      cursor: pointer;\n",
              "      display: none;\n",
              "      fill: #1967D2;\n",
              "      height: 32px;\n",
              "      padding: 0 0 0 0;\n",
              "      width: 32px;\n",
              "    }\n",
              "\n",
              "    .colab-df-convert:hover {\n",
              "      background-color: #E2EBFA;\n",
              "      box-shadow: 0px 1px 2px rgba(60, 64, 67, 0.3), 0px 1px 3px 1px rgba(60, 64, 67, 0.15);\n",
              "      fill: #174EA6;\n",
              "    }\n",
              "\n",
              "    [theme=dark] .colab-df-convert {\n",
              "      background-color: #3B4455;\n",
              "      fill: #D2E3FC;\n",
              "    }\n",
              "\n",
              "    [theme=dark] .colab-df-convert:hover {\n",
              "      background-color: #434B5C;\n",
              "      box-shadow: 0px 1px 3px 1px rgba(0, 0, 0, 0.15);\n",
              "      filter: drop-shadow(0px 1px 2px rgba(0, 0, 0, 0.3));\n",
              "      fill: #FFFFFF;\n",
              "    }\n",
              "  </style>\n",
              "\n",
              "      <script>\n",
              "        const buttonEl =\n",
              "          document.querySelector('#df-fac3c798-59d1-4dfd-8ddb-88c033f90f96 button.colab-df-convert');\n",
              "        buttonEl.style.display =\n",
              "          google.colab.kernel.accessAllowed ? 'block' : 'none';\n",
              "\n",
              "        async function convertToInteractive(key) {\n",
              "          const element = document.querySelector('#df-fac3c798-59d1-4dfd-8ddb-88c033f90f96');\n",
              "          const dataTable =\n",
              "            await google.colab.kernel.invokeFunction('convertToInteractive',\n",
              "                                                     [key], {});\n",
              "          if (!dataTable) return;\n",
              "\n",
              "          const docLinkHtml = 'Like what you see? Visit the ' +\n",
              "            '<a target=\"_blank\" href=https://colab.research.google.com/notebooks/data_table.ipynb>data table notebook</a>'\n",
              "            + ' to learn more about interactive tables.';\n",
              "          element.innerHTML = '';\n",
              "          dataTable['output_type'] = 'display_data';\n",
              "          await google.colab.output.renderOutput(dataTable, element);\n",
              "          const docLink = document.createElement('div');\n",
              "          docLink.innerHTML = docLinkHtml;\n",
              "          element.appendChild(docLink);\n",
              "        }\n",
              "      </script>\n",
              "    </div>\n",
              "  </div>\n",
              "  "
            ]
          },
          "metadata": {},
          "execution_count": 52
        }
      ]
    },
    {
      "cell_type": "markdown",
      "source": [
        "Age and gender have a small positive correlation"
      ],
      "metadata": {
        "id": "bnIOOLl7p3jx"
      }
    },
    {
      "cell_type": "markdown",
      "source": [
        "    Coefficient,\n",
        "\n",
        "---\n",
        "\n",
        "\n",
        "    Strength of Association         Positive\t       Negative\n",
        "    Small\t                       .1 to .3\t      -0.1 to -0.3\n",
        "    Medium\t                      .3 to .5\t      -0.3 to -0.5\n",
        "    Large                           .5 to 1.0\t     -0.5 to -1.0"
      ],
      "metadata": {
        "_uuid": "dea037b90e01466ff15fb059a70f3c461b4657a1",
        "id": "b5CEARoJAvB9"
      }
    },
    {
      "cell_type": "code",
      "source": [
        "df.describe()"
      ],
      "metadata": {
        "colab": {
          "base_uri": "https://localhost:8080/",
          "height": 300
        },
        "id": "yDzxaFCpmbuW",
        "outputId": "1595c5cf-a3f5-4f99-801b-bc9749595c11"
      },
      "execution_count": 54,
      "outputs": [
        {
          "output_type": "execute_result",
          "data": {
            "text/plain": [
              "              Age      Gender\n",
              "count  925.000000  925.000000\n",
              "mean    20.419459    0.407568\n",
              "std      2.800211    0.491648\n",
              "min     15.000000    0.000000\n",
              "25%     19.000000    0.000000\n",
              "50%     20.000000    0.000000\n",
              "75%     22.000000    1.000000\n",
              "max     30.000000    1.000000"
            ],
            "text/html": [
              "\n",
              "  <div id=\"df-d466da4d-b7d5-4967-a9ef-fb5ef1800849\">\n",
              "    <div class=\"colab-df-container\">\n",
              "      <div>\n",
              "<style scoped>\n",
              "    .dataframe tbody tr th:only-of-type {\n",
              "        vertical-align: middle;\n",
              "    }\n",
              "\n",
              "    .dataframe tbody tr th {\n",
              "        vertical-align: top;\n",
              "    }\n",
              "\n",
              "    .dataframe thead th {\n",
              "        text-align: right;\n",
              "    }\n",
              "</style>\n",
              "<table border=\"1\" class=\"dataframe\">\n",
              "  <thead>\n",
              "    <tr style=\"text-align: right;\">\n",
              "      <th></th>\n",
              "      <th>Age</th>\n",
              "      <th>Gender</th>\n",
              "    </tr>\n",
              "  </thead>\n",
              "  <tbody>\n",
              "    <tr>\n",
              "      <th>count</th>\n",
              "      <td>925.000000</td>\n",
              "      <td>925.000000</td>\n",
              "    </tr>\n",
              "    <tr>\n",
              "      <th>mean</th>\n",
              "      <td>20.419459</td>\n",
              "      <td>0.407568</td>\n",
              "    </tr>\n",
              "    <tr>\n",
              "      <th>std</th>\n",
              "      <td>2.800211</td>\n",
              "      <td>0.491648</td>\n",
              "    </tr>\n",
              "    <tr>\n",
              "      <th>min</th>\n",
              "      <td>15.000000</td>\n",
              "      <td>0.000000</td>\n",
              "    </tr>\n",
              "    <tr>\n",
              "      <th>25%</th>\n",
              "      <td>19.000000</td>\n",
              "      <td>0.000000</td>\n",
              "    </tr>\n",
              "    <tr>\n",
              "      <th>50%</th>\n",
              "      <td>20.000000</td>\n",
              "      <td>0.000000</td>\n",
              "    </tr>\n",
              "    <tr>\n",
              "      <th>75%</th>\n",
              "      <td>22.000000</td>\n",
              "      <td>1.000000</td>\n",
              "    </tr>\n",
              "    <tr>\n",
              "      <th>max</th>\n",
              "      <td>30.000000</td>\n",
              "      <td>1.000000</td>\n",
              "    </tr>\n",
              "  </tbody>\n",
              "</table>\n",
              "</div>\n",
              "      <button class=\"colab-df-convert\" onclick=\"convertToInteractive('df-d466da4d-b7d5-4967-a9ef-fb5ef1800849')\"\n",
              "              title=\"Convert this dataframe to an interactive table.\"\n",
              "              style=\"display:none;\">\n",
              "        \n",
              "  <svg xmlns=\"http://www.w3.org/2000/svg\" height=\"24px\"viewBox=\"0 0 24 24\"\n",
              "       width=\"24px\">\n",
              "    <path d=\"M0 0h24v24H0V0z\" fill=\"none\"/>\n",
              "    <path d=\"M18.56 5.44l.94 2.06.94-2.06 2.06-.94-2.06-.94-.94-2.06-.94 2.06-2.06.94zm-11 1L8.5 8.5l.94-2.06 2.06-.94-2.06-.94L8.5 2.5l-.94 2.06-2.06.94zm10 10l.94 2.06.94-2.06 2.06-.94-2.06-.94-.94-2.06-.94 2.06-2.06.94z\"/><path d=\"M17.41 7.96l-1.37-1.37c-.4-.4-.92-.59-1.43-.59-.52 0-1.04.2-1.43.59L10.3 9.45l-7.72 7.72c-.78.78-.78 2.05 0 2.83L4 21.41c.39.39.9.59 1.41.59.51 0 1.02-.2 1.41-.59l7.78-7.78 2.81-2.81c.8-.78.8-2.07 0-2.86zM5.41 20L4 18.59l7.72-7.72 1.47 1.35L5.41 20z\"/>\n",
              "  </svg>\n",
              "      </button>\n",
              "      \n",
              "  <style>\n",
              "    .colab-df-container {\n",
              "      display:flex;\n",
              "      flex-wrap:wrap;\n",
              "      gap: 12px;\n",
              "    }\n",
              "\n",
              "    .colab-df-convert {\n",
              "      background-color: #E8F0FE;\n",
              "      border: none;\n",
              "      border-radius: 50%;\n",
              "      cursor: pointer;\n",
              "      display: none;\n",
              "      fill: #1967D2;\n",
              "      height: 32px;\n",
              "      padding: 0 0 0 0;\n",
              "      width: 32px;\n",
              "    }\n",
              "\n",
              "    .colab-df-convert:hover {\n",
              "      background-color: #E2EBFA;\n",
              "      box-shadow: 0px 1px 2px rgba(60, 64, 67, 0.3), 0px 1px 3px 1px rgba(60, 64, 67, 0.15);\n",
              "      fill: #174EA6;\n",
              "    }\n",
              "\n",
              "    [theme=dark] .colab-df-convert {\n",
              "      background-color: #3B4455;\n",
              "      fill: #D2E3FC;\n",
              "    }\n",
              "\n",
              "    [theme=dark] .colab-df-convert:hover {\n",
              "      background-color: #434B5C;\n",
              "      box-shadow: 0px 1px 3px 1px rgba(0, 0, 0, 0.15);\n",
              "      filter: drop-shadow(0px 1px 2px rgba(0, 0, 0, 0.3));\n",
              "      fill: #FFFFFF;\n",
              "    }\n",
              "  </style>\n",
              "\n",
              "      <script>\n",
              "        const buttonEl =\n",
              "          document.querySelector('#df-d466da4d-b7d5-4967-a9ef-fb5ef1800849 button.colab-df-convert');\n",
              "        buttonEl.style.display =\n",
              "          google.colab.kernel.accessAllowed ? 'block' : 'none';\n",
              "\n",
              "        async function convertToInteractive(key) {\n",
              "          const element = document.querySelector('#df-d466da4d-b7d5-4967-a9ef-fb5ef1800849');\n",
              "          const dataTable =\n",
              "            await google.colab.kernel.invokeFunction('convertToInteractive',\n",
              "                                                     [key], {});\n",
              "          if (!dataTable) return;\n",
              "\n",
              "          const docLinkHtml = 'Like what you see? Visit the ' +\n",
              "            '<a target=\"_blank\" href=https://colab.research.google.com/notebooks/data_table.ipynb>data table notebook</a>'\n",
              "            + ' to learn more about interactive tables.';\n",
              "          element.innerHTML = '';\n",
              "          dataTable['output_type'] = 'display_data';\n",
              "          await google.colab.output.renderOutput(dataTable, element);\n",
              "          const docLink = document.createElement('div');\n",
              "          docLink.innerHTML = docLinkHtml;\n",
              "          element.appendChild(docLink);\n",
              "        }\n",
              "      </script>\n",
              "    </div>\n",
              "  </div>\n",
              "  "
            ]
          },
          "metadata": {},
          "execution_count": 54
        }
      ]
    },
    {
      "cell_type": "code",
      "source": [
        "f,ax = plt.subplots(figsize=(25, 20))\n",
        "sns.heatmap(df.corr(), annot=True, linewidths=1, fmt= '.1f',ax=ax)\n",
        "plt.show()"
      ],
      "metadata": {
        "_uuid": "f07e83f24d9b4cde126bc9cefb99358518c3b2a5",
        "execution": {
          "iopub.status.busy": "2022-12-18T20:42:24.332434Z",
          "iopub.execute_input": "2022-12-18T20:42:24.332766Z",
          "iopub.status.idle": "2022-12-18T20:42:26.751650Z",
          "shell.execute_reply.started": "2022-12-18T20:42:24.332709Z",
          "shell.execute_reply": "2022-12-18T20:42:26.750728Z"
        },
        "trusted": true,
        "id": "2bgWbRuAAvB9",
        "outputId": "c6354bd4-85b2-40f3-e723-76c674f321b4",
        "colab": {
          "base_uri": "https://localhost:8080/",
          "height": 650
        }
      },
      "execution_count": 55,
      "outputs": [
        {
          "output_type": "display_data",
          "data": {
            "text/plain": [
              "<Figure size 1800x1440 with 2 Axes>"
            ],
            "image/png": "[encoded data removed]"
          },
          "metadata": {
            "needs_background": "light"
          }
        }
      ]
    },
    {
      "cell_type": "markdown",
      "source": [
        "# Processing the Data\n",
        "We need to divide the data into input data and output data.\n",
        "\n",
        "Input : age, gender\n",
        "\n",
        "Output : music preferrence"
      ],
      "metadata": {
        "id": "j9-_ExWrAvB_"
      }
    },
    {
      "cell_type": "code",
      "source": [
        "X= df.drop(columns=['Preference'])\n",
        "y= df['Preference']"
      ],
      "metadata": {
        "id": "4KpKwqsCqnKN"
      },
      "execution_count": 57,
      "outputs": []
    },
    {
      "cell_type": "markdown",
      "source": [
        "Splitting data into training set and test set"
      ],
      "metadata": {
        "id": "gXaHPx4OAvCA"
      }
    },
    {
      "cell_type": "code",
      "source": [
        "X_train, X_test, y_train,y_test= train_test_split(X,y, test_size=0.2)"
      ],
      "metadata": {
        "execution": {
          "iopub.status.busy": "2022-12-18T20:42:26.832140Z",
          "iopub.status.idle": "2022-12-18T20:42:26.832628Z"
        },
        "trusted": true,
        "id": "cFQxyV9fAvCA"
      },
      "execution_count": 58,
      "outputs": []
    },
    {
      "cell_type": "markdown",
      "source": [
        "# Creating and Training the model"
      ],
      "metadata": {
        "id": "fhBYhSNsAvCA"
      }
    },
    {
      "cell_type": "code",
      "source": [
        "model= tree.DecisionTreeClassifier()"
      ],
      "metadata": {
        "execution": {
          "iopub.status.busy": "2022-12-18T20:42:26.833454Z",
          "iopub.status.idle": "2022-12-18T20:42:26.833905Z"
        },
        "trusted": true,
        "id": "tNFBgKp-AvCA"
      },
      "execution_count": 68,
      "outputs": []
    },
    {
      "cell_type": "code",
      "source": [
        "model.fit(X_train, y_train)"
      ],
      "metadata": {
        "execution": {
          "iopub.status.busy": "2022-12-18T20:42:26.834776Z",
          "iopub.status.idle": "2022-12-18T20:42:26.835258Z"
        },
        "trusted": true,
        "id": "nLC2VyoyAvCA",
        "colab": {
          "base_uri": "https://localhost:8080/"
        },
        "outputId": "4c6b2d03-3a19-40d0-bba7-fbdf45b35881"
      },
      "execution_count": 69,
      "outputs": [
        {
          "output_type": "execute_result",
          "data": {
            "text/plain": [
              "DecisionTreeClassifier()"
            ]
          },
          "metadata": {},
          "execution_count": 69
        }
      ]
    },
    {
      "cell_type": "code",
      "source": [
        "y_prediction = model.predict([[22,0]])\n",
        "y_prediction"
      ],
      "metadata": {
        "execution": {
          "iopub.status.busy": "2022-12-18T20:42:26.836090Z",
          "iopub.status.idle": "2022-12-18T20:42:26.836567Z"
        },
        "trusted": true,
        "id": "DTTO5S3eAvCA",
        "colab": {
          "base_uri": "https://localhost:8080/"
        },
        "outputId": "acfd0bed-ab4b-4661-fe61-374b8a0641c1"
      },
      "execution_count": 79,
      "outputs": [
        {
          "output_type": "stream",
          "name": "stderr",
          "text": [
            "/usr/local/lib/python3.8/dist-packages/sklearn/base.py:450: UserWarning: X does not have valid feature names, but DecisionTreeClassifier was fitted with feature names\n",
            "  warnings.warn(\n"
          ]
        },
        {
          "output_type": "execute_result",
          "data": {
            "text/plain": [
              "array(['Rock'], dtype=object)"
            ]
          },
          "metadata": {},
          "execution_count": 79
        }
      ]
    },
    {
      "cell_type": "markdown",
      "source": [
        "The model was asked to predict the music preferrence of a 22-year-old female and the prediction was Rock."
      ],
      "metadata": {
        "id": "-L17WYW4stN5"
      }
    },
    {
      "cell_type": "code",
      "source": [
        "y_prediction = model.predict([[30,0]])\n",
        "y_prediction"
      ],
      "metadata": {
        "colab": {
          "base_uri": "https://localhost:8080/"
        },
        "id": "Gfhuv_76s7Jy",
        "outputId": "980a8263-5bb9-40bb-80e0-fff14b29eb54"
      },
      "execution_count": 84,
      "outputs": [
        {
          "output_type": "stream",
          "name": "stderr",
          "text": [
            "/usr/local/lib/python3.8/dist-packages/sklearn/base.py:450: UserWarning: X does not have valid feature names, but DecisionTreeClassifier was fitted with feature names\n",
            "  warnings.warn(\n"
          ]
        },
        {
          "output_type": "execute_result",
          "data": {
            "text/plain": [
              "array(['Classical music'], dtype=object)"
            ]
          },
          "metadata": {},
          "execution_count": 84
        }
      ]
    },
    {
      "cell_type": "markdown",
      "source": [
        "The model was asked to predict the music preferrence of a 30-year-old female and the prediction was Classical music."
      ],
      "metadata": {
        "id": "5J48_Rm_tBfZ"
      }
    },
    {
      "cell_type": "markdown",
      "source": [
        "# Evaluation\n",
        "\n",
        "We want to evaluate the model on its predictions."
      ],
      "metadata": {
        "id": "4YOfLjuQAvCA"
      }
    },
    {
      "cell_type": "code",
      "source": [
        "predictions= model.predict(X_test)"
      ],
      "metadata": {
        "id": "idGEKHNItjJG"
      },
      "execution_count": 85,
      "outputs": []
    },
    {
      "cell_type": "code",
      "source": [
        "accuracy = accuracy_score(y_test, predictions)\n",
        "accuracy"
      ],
      "metadata": {
        "colab": {
          "base_uri": "https://localhost:8080/"
        },
        "id": "hvcE3FTltzT6",
        "outputId": "a700fc5f-d7ca-4ced-9e02-d9ca36bde9d7"
      },
      "execution_count": 86,
      "outputs": [
        {
          "output_type": "execute_result",
          "data": {
            "text/plain": [
              "0.08648648648648649"
            ]
          },
          "metadata": {},
          "execution_count": 86
        }
      ]
    },
    {
      "cell_type": "markdown",
      "source": [
        "The accuracy of the model is 86.48%"
      ],
      "metadata": {
        "id": "-7R6oO-ut6TG"
      }
    }
  ]
}